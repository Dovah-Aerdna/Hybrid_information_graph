{
 "cells": [
  {
   "cell_type": "code",
   "execution_count": 1,
   "id": "19b27e2a-cb91-437b-bcda-2471081dba73",
   "metadata": {},
   "outputs": [],
   "source": [
    "import numpy as np \n",
    "import random as rd\n",
    "from functools import reduce\n",
    "import itertools as itr\n",
    "import scipy.linalg as sp\n",
    "        \n",
    "class vertex:\n",
    "    def __init__(self, index, classicData):\n",
    "        self.index=index\n",
    "        self.classicData=classicData"
   ]
  },
  {
   "cell_type": "code",
   "execution_count": 2,
   "id": "31da1402-b448-40d0-86c1-036d9677f7bd",
   "metadata": {},
   "outputs": [],
   "source": [
    "densityKet0 = np.zeros([2,2],dtype=np.complex_)\n",
    "densityKet0[0][0] = 1 \n",
    "\n",
    "I=np.identity(2, dtype=np.complex_)\n",
    "\n",
    "X = np.zeros([2,2],dtype=np.complex_)\n",
    "X[0][1]=1\n",
    "X[1][0]=1\n",
    "\n",
    "H = np.ones([2,2],dtype=np.complex_)\n",
    "H[1][1]*=-1\n",
    "H=H/np.sqrt(2)\n",
    "\n",
    "HX=np.matmul(H,X)\n",
    "\n",
    "operators=[I, X, H, HX]\n",
    "\n",
    "state0=np.zeros([2,2],dtype=np.complex_)\n",
    "state0[0][0]=1\n",
    "\n",
    "state1=np.zeros([2,2],dtype=np.complex_)\n",
    "state1[1][1]=1"
   ]
  },
  {
   "cell_type": "code",
   "execution_count": 3,
   "id": "3882da24-ae50-49e1-b193-543dde52e31a",
   "metadata": {},
   "outputs": [],
   "source": [
    "ket0=np.zeros([2,1],dtype=np.complex_)\n",
    "ket0[0][0]=1\n",
    "ket1=np.zeros([2,1],dtype=np.complex_)\n",
    "ket1[1][0]=1\n",
    "bra0=np.transpose(ket0)\n",
    "bra1=np.transpose(ket1)"
   ]
  },
  {
   "cell_type": "code",
   "execution_count": 4,
   "id": "d45f8565-d172-4a65-9328-a8a90de15dfb",
   "metadata": {},
   "outputs": [],
   "source": [
    "def partialTrace(rho, idx):\n",
    "    # take density matrix (2^N) and an index of a node (qubit) idx, from 0 to N-1\n",
    "    # give the reduced density matrix sigma (2*2) obrained doing a partial trace on the other qubits.\n",
    "\n",
    "    power2toN=len(rho)\n",
    "    N=int(np.log2(power2toN))\n",
    "    formatOption='0'+str(N)+'b'\n",
    "\n",
    "    x=[]\n",
    "    y=[]\n",
    "\n",
    "    # I could be faster by creating directly x and y \n",
    "    for i in range(2**N):\n",
    "        binaryIndex=format(i,formatOption)\n",
    "\n",
    "        if binaryIndex[idx]=='0':\n",
    "            x.append(i)\n",
    "        else:\n",
    "            y.append(i)\n",
    "\n",
    "\n",
    "    sigma=np.zeros([2,2],dtype=np.complex_)\n",
    "\n",
    "    for p in zip(x,x):\n",
    "        sigma[0][0]+=rho.item(p)\n",
    "\n",
    "    for p in zip(x,y):\n",
    "        sigma[0][1]+=rho.item(p)\n",
    "\n",
    "    for p in zip(y,x):\n",
    "        sigma[1][0]+=rho.item(p)\n",
    "\n",
    "    for p in zip(y,y):\n",
    "        sigma[1][1]+=rho.item(p)\n",
    "\n",
    "\n",
    "    return sigma"
   ]
  },
  {
   "cell_type": "code",
   "execution_count": 5,
   "id": "1634fbf1-e2b6-43c5-880a-3dc41b77c785",
   "metadata": {},
   "outputs": [],
   "source": [
    "def initQuantumDensity(classicConfiguration):\n",
    "        #rho=0.5|0><0|+0.5|1><1|    \n",
    "        initialQuantumState=0.5*np.identity(2, dtype=np.complex_)\n",
    "        state=[]\n",
    "        for classicData in classicConfiguration:\n",
    "            state.append(operators[classicData]@initialQuantumState@np.conj(operators[classicData]))\n",
    "            \n",
    "        psi=reduce(np.kron, state)\n",
    "        return psi"
   ]
  },
  {
   "cell_type": "code",
   "execution_count": 6,
   "id": "9e19928b-ea23-4252-9194-e1a2c43d6eed",
   "metadata": {},
   "outputs": [],
   "source": [
    "prob=[0.1, 0.2,0.55,0.15]\n",
    "\n",
    "def initializeNodes(N, prob):\n",
    "    \n",
    "    Nodes = []\n",
    "    assert sum(prob)==1\n",
    "    \n",
    "    for i in range(N):\n",
    "        classicData=rd.choices(np.arange(4), prob)[0]\n",
    "        Nodes.append(vertex(i,classicData))\n",
    "        \n",
    "    return Nodes"
   ]
  },
  {
   "cell_type": "code",
   "execution_count": 7,
   "id": "af2d81f2-0575-439a-b80f-eefe01259a58",
   "metadata": {},
   "outputs": [],
   "source": [
    "def initializeAdjacencyMatrix(N, density):\n",
    "    \n",
    "    maxEdges=N*(N-1)/2\n",
    "    remainingEdges=round(density*maxEdges)\n",
    "    edges={}\n",
    "\n",
    "    while remainingEdges>0:\n",
    "\n",
    "        a=rd.randint(0,N-1)\n",
    "        b=rd.randint(0,N-1)\n",
    "\n",
    "        while a==b:\n",
    "            b=rd.randint(0,N-1)\n",
    "\n",
    "        if (a,b) not in edges:\n",
    "            edges[(a,b)]=1\n",
    "            remainingEdges-=1\n",
    "    \n",
    "    return edges"
   ]
  },
  {
   "cell_type": "code",
   "execution_count": 8,
   "id": "ec6c881c-c6c2-4dc4-a3ee-6242d89e2f94",
   "metadata": {},
   "outputs": [],
   "source": [
    "class graph:\n",
    "    \n",
    "    \n",
    "    def __init__(self, N, density, prob):\n",
    "        self.Nodes=initializeNodes(N, prob)\n",
    "        self.adjacencyMatrix=initializeAdjacencyMatrix(N, d)\n",
    "        self.prob=prob\n",
    "        self.quantumState=initQuantumDensity([n.classicData for n in self.Nodes])\n",
    "\n",
    "    def classicState(self):\n",
    "        state=[]\n",
    "        for n in self.Nodes:\n",
    "            state.append(n.classicData)\n",
    "        return state"
   ]
  },
  {
   "cell_type": "markdown",
   "id": "54e3ded5-c4cf-4f0d-a7dd-8a643b3476c7",
   "metadata": {},
   "source": [
    "## Initilise graph with N vertex and d density"
   ]
  },
  {
   "cell_type": "code",
   "execution_count": 9,
   "id": "9ceec996-5aa9-4f6a-ba1c-a5526743f61c",
   "metadata": {},
   "outputs": [],
   "source": [
    "N=3\n",
    "d=1\n",
    "g = graph(N,d,prob)\n",
    "graphClassicState=g.classicState()"
   ]
  },
  {
   "cell_type": "code",
   "execution_count": 10,
   "id": "cb757107-4787-467a-9648-f86431686452",
   "metadata": {},
   "outputs": [
    {
     "data": {
      "text/plain": [
       "{(2, 0): 1, (1, 2): 1, (2, 1): 1}"
      ]
     },
     "execution_count": 10,
     "metadata": {},
     "output_type": "execute_result"
    }
   ],
   "source": [
    "g.adjacencyMatrix"
   ]
  },
  {
   "cell_type": "markdown",
   "id": "6c3eb4b2-de6c-44ec-82ff-a062fb7c2de6",
   "metadata": {},
   "source": [
    "## Entropy computation"
   ]
  },
  {
   "cell_type": "code",
   "execution_count": 11,
   "id": "a3750c51-a1d4-4cd1-befc-3d51d93b5f16",
   "metadata": {},
   "outputs": [],
   "source": [
    "def probClassicalState(state, prob):\n",
    "    \n",
    "    l=[]\n",
    "    for s in state:\n",
    "        l.append(prob[s])\n",
    "    \n",
    "    return reduce(lambda a, b: a*b, l)"
   ]
  },
  {
   "cell_type": "code",
   "execution_count": 12,
   "id": "3b0bf1ad-6076-4396-82dd-1a4185a4b8c7",
   "metadata": {},
   "outputs": [],
   "source": [
    "def entropy(graph):\n",
    "    \n",
    "    N=len(graph.Nodes)\n",
    "    prob=graph.prob\n",
    "    \n",
    "    #S=0+0j\n",
    "\n",
    "    S=0\n",
    "    \n",
    "    for classicConfiguration in itr.product(range(len(prob)),repeat=N):\n",
    "\n",
    "        #calcola enrotropia\n",
    "        rho=graph.quantumState\n",
    "\n",
    "        S+=-probClassicalState(classicConfiguration, prob)*np.trace(np.matmul(rho,sp.logm(rho)))\n",
    "\n",
    "    return np.real(S) # np.real(S) ? o np.abs(S) ?"
   ]
  },
  {
   "cell_type": "code",
   "execution_count": 13,
   "id": "91a0e899-837d-4a5a-a597-8a68f06353d5",
   "metadata": {
    "tags": []
   },
   "outputs": [],
   "source": [
    "s=entropy(g)"
   ]
  },
  {
   "cell_type": "code",
   "execution_count": 14,
   "id": "1716a371-f7c9-4216-92f2-58245582292f",
   "metadata": {},
   "outputs": [
    {
     "data": {
      "text/plain": [
       "1.5707963267948954"
      ]
     },
     "execution_count": 14,
     "metadata": {},
     "output_type": "execute_result"
    }
   ],
   "source": [
    "s"
   ]
  },
  {
   "cell_type": "markdown",
   "id": "c90b49c9-5bde-4061-bee8-b2b2c5190d19",
   "metadata": {
    "tags": []
   },
   "source": [
    "*Attenzione! Rendere più efficiente?*"
   ]
  },
  {
   "cell_type": "markdown",
   "id": "dcfdab87-badf-4bfc-bbc6-10d2dc84b119",
   "metadata": {},
   "source": [
    "## Graph evolution"
   ]
  },
  {
   "cell_type": "code",
   "execution_count": 15,
   "id": "9990d773-4835-4dec-aeef-58c4c32f0f60",
   "metadata": {},
   "outputs": [],
   "source": [
    "def classicRule(i, j):\n",
    "    return np.int(np.floor(0.5*(i+j)))"
   ]
  },
  {
   "cell_type": "code",
   "execution_count": 16,
   "id": "90e47f58-bd88-4760-9665-6aac873d3a90",
   "metadata": {},
   "outputs": [],
   "source": [
    "def swapGate(edge,N):\n",
    "    \n",
    "    #CNOTup\n",
    "    \n",
    "    a=[]\n",
    "    for i in range(N):\n",
    "        if i==edge[0]:\n",
    "            a.append(state0)\n",
    "        else:\n",
    "            a.append(I)\n",
    "            \n",
    "    A=reduce(np.kron, a)\n",
    "    \n",
    "    b=[]\n",
    "    for i in range(N):\n",
    "        if i==edge[0]:\n",
    "            b.append(state1)\n",
    "        elif i==edge[1]:\n",
    "            b.append(X)\n",
    "        else:\n",
    "            b.append(I)\n",
    "\n",
    "    B=reduce(np.kron, b)\n",
    "    \n",
    "    CNOTup=A+B\n",
    "    \n",
    "    #CNOTdown\n",
    "    \n",
    "    c=[]\n",
    "    for i in range(N):\n",
    "        if i==edge[1]:\n",
    "            c.append(state0)\n",
    "        else:\n",
    "            c.append(I)\n",
    "            \n",
    "    C=reduce(np.kron, c)\n",
    "    \n",
    "    d=[]\n",
    "    for i in range(N):\n",
    "        if i==edge[1]:\n",
    "            d.append(state1)\n",
    "        elif i==edge[0]:\n",
    "            d.append(X)\n",
    "        else:\n",
    "            d.append(I)\n",
    "\n",
    "    D=reduce(np.kron, d)\n",
    "    \n",
    "    CNOTdown=C+D\n",
    "       \n",
    "    #swap    \n",
    "    \n",
    "    return CNOTup@CNOTdown@CNOTup"
   ]
  },
  {
   "cell_type": "code",
   "execution_count": 17,
   "id": "a82ff963-4c6b-406c-8c2e-efdbcc0f04bf",
   "metadata": {},
   "outputs": [
    {
     "data": {
      "text/plain": [
       "array([[1.+0.j, 0.+0.j, 0.+0.j, ..., 0.+0.j, 0.+0.j, 0.+0.j],\n",
       "       [0.+0.j, 1.+0.j, 0.+0.j, ..., 0.+0.j, 0.+0.j, 0.+0.j],\n",
       "       [0.+0.j, 0.+0.j, 1.+0.j, ..., 0.+0.j, 0.+0.j, 0.+0.j],\n",
       "       ...,\n",
       "       [0.+0.j, 0.+0.j, 0.+0.j, ..., 1.+0.j, 0.+0.j, 0.+0.j],\n",
       "       [0.+0.j, 0.+0.j, 0.+0.j, ..., 0.+0.j, 1.+0.j, 0.+0.j],\n",
       "       [0.+0.j, 0.+0.j, 0.+0.j, ..., 0.+0.j, 0.+0.j, 1.+0.j]])"
      ]
     },
     "execution_count": 17,
     "metadata": {},
     "output_type": "execute_result"
    }
   ],
   "source": [
    "swapGate((0,1),6)"
   ]
  },
  {
   "cell_type": "code",
   "execution_count": 18,
   "id": "f1aaefd1-da60-4557-8a0c-987e1a76feab",
   "metadata": {},
   "outputs": [],
   "source": [
    "def evolution(graph):\n",
    "    #ATTENZIONE, MODIFICA IL GRAFO ORIGINALE!\n",
    "    # random selection of an edge\n",
    "    edge=rd.choice(list(g.adjacencyMatrix.keys()))\n",
    "    \n",
    "    # classic evolution    \n",
    "    c=classicRule(graph.Nodes[edge[0]].classicData, graph.Nodes[edge[1]].classicData)\n",
    "    graph.Nodes[edge[0]].classicData=c\n",
    "    graph.Nodes[edge[1]].classicData=c\n",
    "    \n",
    "    # application operator based on classic data\n",
    "    state=[]\n",
    "    for n in graph.Nodes:\n",
    "        if n.index in edge:\n",
    "            state.append(operators[n.classicData])\n",
    "        else:\n",
    "            state.append(I)\n",
    "            \n",
    "    O=reduce(np.kron, state)\n",
    "    \n",
    "    graph.quantumState=O@graph.quantumState@np.conj(O)\n",
    "       \n",
    "    #quantum evolution\n",
    "    \n",
    "    swap=swapGate(edge,len(graph.Nodes))\n",
    "    \n",
    "    graph.quantumState=0.5*(graph.quantumState+swap@graph.quantumState@np.conj(swap))\n",
    "    \n",
    "    #ATTENZIONE, MODIFICA IL GRAFO ORIGINALE!\n",
    "    return graph"
   ]
  },
  {
   "cell_type": "markdown",
   "id": "79682daf-02dd-4837-8d31-e09199d112e8",
   "metadata": {},
   "source": [
    "# Grafici"
   ]
  },
  {
   "cell_type": "code",
   "execution_count": 38,
   "id": "4b3be7b2-00f7-4959-a785-bf8b35a4181b",
   "metadata": {},
   "outputs": [],
   "source": [
    "P = graph(6,0.7,prob)"
   ]
  },
  {
   "cell_type": "code",
   "execution_count": 39,
   "id": "e55e38a8-b2eb-447b-9b2b-f95ba34a51d2",
   "metadata": {},
   "outputs": [
    {
     "data": {
      "text/plain": [
       "4.158883083359653"
      ]
     },
     "execution_count": 39,
     "metadata": {},
     "output_type": "execute_result"
    }
   ],
   "source": [
    "entropy(P)"
   ]
  },
  {
   "cell_type": "code",
   "execution_count": 21,
   "id": "1b714416-5f09-401d-8bab-3abb142944a4",
   "metadata": {},
   "outputs": [
    {
     "data": {
      "text/plain": [
       "[0, 2, 2, 2, 2]"
      ]
     },
     "execution_count": 21,
     "metadata": {},
     "output_type": "execute_result"
    }
   ],
   "source": [
    "#ATTENZIONE il grafo viene modificato\n",
    "evolution(P)\n",
    "P.classicState()"
   ]
  },
  {
   "cell_type": "code",
   "execution_count": 22,
   "id": "2fd50dfd-9f50-4ff0-8959-0ed36b29ce11",
   "metadata": {},
   "outputs": [],
   "source": [
    "gr=graph(5,0.9,prob)\n",
    "\n",
    "entropyEvolution=[]\n",
    "\n",
    "\n",
    "\n",
    "for i in range(20):\n",
    "    entropyEvolution.append(entropy(gr))\n",
    "    evolution(P)"
   ]
  },
  {
   "cell_type": "code",
   "execution_count": 23,
   "id": "c12e7998-a8a0-46bf-9798-c8957184b5e9",
   "metadata": {},
   "outputs": [
    {
     "data": {
      "image/png": "[encoded data removed]",
      "text/plain": [
       "<Figure size 432x288 with 1 Axes>"
      ]
     },
     "metadata": {
      "needs_background": "light"
     },
     "output_type": "display_data"
    }
   ],
   "source": [
    "import matplotlib.pyplot as plt\n",
    "  \n",
    "# x axis values\n",
    "x = range(len(entropyEvolution))\n",
    "  \n",
    "# plotting the points \n",
    "plt.plot(x, entropyEvolution)\n",
    "  \n",
    "# naming the x axis\n",
    "plt.xlabel('time')\n",
    "# naming the y axis\n",
    "plt.ylabel('Entropy')\n",
    "  \n",
    "# giving a title to my graph\n",
    "plt.title('Graph evolution')\n",
    "  \n",
    "# function to show the plot\n",
    "plt.show()"
   ]
  },
  {
   "cell_type": "code",
   "execution_count": 65,
   "id": "a46d0b1b-03b9-4c34-b761-c44686132eb1",
   "metadata": {},
   "outputs": [
    {
     "data": {
      "text/plain": [
       "<__main__.graph at 0x7f12b3d10820>"
      ]
     },
     "execution_count": 65,
     "metadata": {},
     "output_type": "execute_result"
    }
   ],
   "source": [
    "evolution(P)"
   ]
  },
  {
   "cell_type": "code",
   "execution_count": 68,
   "id": "3cbb44c1-98f4-4d73-bae9-7179bc3e5394",
   "metadata": {},
   "outputs": [
    {
     "data": {
      "text/plain": [
       "array([[ 5.00000000e-01+0.j, -7.69008046e-18+0.j],\n",
       "       [-7.69008046e-18+0.j,  5.00000000e-01+0.j]])"
      ]
     },
     "execution_count": 68,
     "metadata": {},
     "output_type": "execute_result"
    }
   ],
   "source": [
    "partialTrace(P.quantumState, 0)"
   ]
  },
  {
   "cell_type": "code",
   "execution_count": 69,
   "id": "08fb081c-f092-4d2f-beec-0c15ce1e525d",
   "metadata": {},
   "outputs": [
    {
     "data": {
      "text/plain": [
       "array([[ 5.00000000e-01+0.j, -7.69008046e-18+0.j],\n",
       "       [-7.69008046e-18+0.j,  5.00000000e-01+0.j]])"
      ]
     },
     "execution_count": 69,
     "metadata": {},
     "output_type": "execute_result"
    }
   ],
   "source": [
    "partialTrace(P.quantumState, 0)"
   ]
  },
  {
   "cell_type": "code",
   "execution_count": 70,
   "id": "21a0de2e-1045-4e53-b458-96bd015cd807",
   "metadata": {},
   "outputs": [
    {
     "data": {
      "text/plain": [
       "array([[ 5.00000000e-01+0.j, -1.11855716e-17+0.j],\n",
       "       [-1.11855716e-17+0.j,  5.00000000e-01+0.j]])"
      ]
     },
     "execution_count": 70,
     "metadata": {},
     "output_type": "execute_result"
    }
   ],
   "source": [
    "partialTrace(P.quantumState, 3)"
   ]
  },
  {
   "cell_type": "code",
   "execution_count": 72,
   "id": "166830da-c6c9-45f7-8add-3118b9492bab",
   "metadata": {},
   "outputs": [
    {
     "data": {
      "text/plain": [
       "array([[ 5.00000000e-01+0.j, -7.69008046e-18+0.j],\n",
       "       [-7.69008046e-18+0.j,  5.00000000e-01+0.j]])"
      ]
     },
     "execution_count": 72,
     "metadata": {},
     "output_type": "execute_result"
    }
   ],
   "source": [
    "partialTrace(P.quantumState, 0)"
   ]
  },
  {
   "cell_type": "code",
   "execution_count": 53,
   "id": "0cce8915-6c52-488a-91b9-56ad43d73117",
   "metadata": {},
   "outputs": [
    {
     "data": {
      "text/plain": [
       "array([[0.5+0.j, 0. +0.j],\n",
       "       [0. +0.j, 0.5+0.j]])"
      ]
     },
     "execution_count": 53,
     "metadata": {},
     "output_type": "execute_result"
    }
   ],
   "source": [
    "partialTrace(P.quantumState, 5)"
   ]
  },
  {
   "cell_type": "code",
   "execution_count": 81,
   "id": "cc5748f4-7b0f-4cc0-a7fa-079549570718",
   "metadata": {},
   "outputs": [
    {
     "data": {
      "text/plain": [
       "0.6931471805599454"
      ]
     },
     "execution_count": 81,
     "metadata": {},
     "output_type": "execute_result"
    }
   ],
   "source": [
    "rho=partialTrace(P.quantumState, 0)\n",
    "S_0=-np.trace(np.matmul(rho,sp.logm(rho)))\n",
    "S_0.real"
   ]
  },
  {
   "cell_type": "code",
   "execution_count": null,
   "id": "a3e7c50f-fa73-4b34-a2a2-69d4ffeff894",
   "metadata": {},
   "outputs": [],
   "source": []
  },
  {
   "cell_type": "code",
   "execution_count": null,
   "id": "939c3aed-61d9-44c5-9f96-026535e8fe9d",
   "metadata": {},
   "outputs": [],
   "source": []
  }
 ],
 "metadata": {
  "kernelspec": {
   "display_name": "Python 3 (ipykernel)",
   "language": "python",
   "name": "python3"
  },
  "language_info": {
   "codemirror_mode": {
    "name": "ipython",
    "version": 3
   },
   "file_extension": ".py",
   "mimetype": "text/x-python",
   "name": "python",
   "nbconvert_exporter": "python",
   "pygments_lexer": "ipython3",
   "version": "3.10.5"
  }
 },
 "nbformat": 4,
 "nbformat_minor": 5
}
